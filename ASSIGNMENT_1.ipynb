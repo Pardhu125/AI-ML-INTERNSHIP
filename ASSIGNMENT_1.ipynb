{
  "nbformat": 4,
  "nbformat_minor": 0,
  "metadata": {
    "colab": {
      "provenance": [],
      "authorship_tag": "ABX9TyOQT5d+qRmbn+TTgamh4ux/",
      "include_colab_link": true
    },
    "kernelspec": {
      "name": "python3",
      "display_name": "Python 3"
    },
    "language_info": {
      "name": "python"
    }
  },
  "cells": [
    {
      "cell_type": "markdown",
      "metadata": {
        "id": "view-in-github",
        "colab_type": "text"
      },
      "source": [
        "<a href=\"https://colab.research.google.com/github/Pardhu125/AI-ML-INTERNSHIP/blob/main/ASSIGNMENT_1.ipynb\" target=\"_parent\"><img src=\"https://colab.research.google.com/assets/colab-badge.svg\" alt=\"Open In Colab\"/></a>"
      ]
    },
    {
      "cell_type": "code",
      "execution_count": null,
      "metadata": {
        "id": "PErrel73_rQU",
        "colab": {
          "base_uri": "https://localhost:8080/"
        },
        "outputId": "3ae0f470-cde9-4dc4-b44d-dbb2d15f36f4"
      },
      "outputs": [
        {
          "output_type": "execute_result",
          "data": {
            "text/plain": [
              "[1, 2, 3, 4, 5, 6, 7, 8, 9, 6]"
            ]
          },
          "metadata": {},
          "execution_count": 9
        }
      ],
      "source": [
        "#Task 1--\n",
        "a=[1,2,3,4,5,6]\n",
        "b=[7,8,9,6]\n",
        "a+b"
      ]
    },
    {
      "cell_type": "code",
      "source": [
        "# task 2--\n",
        "\n",
        "n =int(input(\"enter the number :\"))\n",
        "if(n%2) == 0:\n",
        "  print(\"Given number is even\".format(n))\n",
        "else:\n",
        "  print(\"Given number is odd\".format(n))"
      ],
      "metadata": {
        "id": "zaDBc4w1CHa2",
        "colab": {
          "base_uri": "https://localhost:8080/"
        },
        "outputId": "d68122ae-ae08-4831-d257-4945a81c4536"
      },
      "execution_count": null,
      "outputs": [
        {
          "output_type": "stream",
          "name": "stdout",
          "text": [
            "enter the number :7\n",
            "Given number is odd\n"
          ]
        }
      ]
    },
    {
      "cell_type": "code",
      "source": [
        "# task 3 --\n",
        "\n",
        "d1 = {'S.No':[1,2,3],'NAME':['naresh','sai','kali',],'ROLL_NO':[67,88,59]}\n",
        "d1"
      ],
      "metadata": {
        "colab": {
          "base_uri": "https://localhost:8080/"
        },
        "id": "7IlxhCuiDLQS",
        "outputId": "0d4e9baf-1da0-44b2-c9c0-c712cc81c8ba"
      },
      "execution_count": null,
      "outputs": [
        {
          "output_type": "execute_result",
          "data": {
            "text/plain": [
              "{'S.No': [1, 2, 3], 'NAME': ['naresh', 'sai', 'kali'], 'ROLL_NO': [67, 88, 59]}"
            ]
          },
          "metadata": {},
          "execution_count": 10
        }
      ]
    },
    {
      "cell_type": "code",
      "source": [
        "# TASK 4 :-\n",
        "\n",
        "n=int(input(\"Enter a number: \"))\n",
        "\n",
        "def evenorodd(n):\n",
        "\n",
        "    if(n%2==0):\n",
        "        print(\"Given no is an Even\")\n",
        "    else:\n",
        "        print(\"Given no is an Odd\")\n",
        "\n",
        "evenorodd(n);"
      ],
      "metadata": {
        "colab": {
          "base_uri": "https://localhost:8080/"
        },
        "id": "dV_ukBgADY9n",
        "outputId": "dcabc87e-d972-488d-e4c9-b390e463bdca"
      },
      "execution_count": null,
      "outputs": [
        {
          "output_type": "stream",
          "name": "stdout",
          "text": [
            "Enter a number: 5\n",
            "Given no is an Odd\n"
          ]
        }
      ]
    },
    {
      "cell_type": "code",
      "source": [
        "# TASK 5 :-\n",
        "\n",
        "def sum(num):\n",
        "    result=0\n",
        "    for i in num:\n",
        "        result = result+i\n",
        "    return result\n",
        "\n",
        "num = [11,12,13,14,15]\n",
        "print(n)\n",
        "print(\"Sum of no: \",sum(num))"
      ],
      "metadata": {
        "colab": {
          "base_uri": "https://localhost:8080/"
        },
        "id": "C-jxt2U0DjJV",
        "outputId": "f7b5ab30-5d3d-40b9-914b-cf68a52fa1a4"
      },
      "execution_count": null,
      "outputs": [
        {
          "output_type": "stream",
          "name": "stdout",
          "text": [
            "5\n",
            "Sum of no:  65\n"
          ]
        }
      ]
    }
  ]
}